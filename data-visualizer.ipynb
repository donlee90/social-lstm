{
 "cells": [
  {
   "cell_type": "code",
   "execution_count": 1,
   "metadata": {},
   "outputs": [],
   "source": [
    "import pandas as pd\n",
    "\n",
    "%load_ext autoreload\n",
    "%autoreload 2\n",
    "%reload_ext autoreload"
   ]
  },
  {
   "cell_type": "markdown",
   "metadata": {},
   "source": [
    "# Loading data files"
   ]
  },
  {
   "cell_type": "code",
   "execution_count": 2,
   "metadata": {},
   "outputs": [],
   "source": [
    "# Import data file to pandas\n",
    "#data_path = 'data/train/biwi/biwi_hotel.txt'\n",
    "data_path = 'data/train/stanford/bookstore_1.txt'\n",
    "\n",
    "df = pd.read_csv(data_path, sep=\" \", header=None)\n",
    "df.columns = [\"frame_id\", \"agent_id\", \"x\", \"y\"]"
   ]
  },
  {
   "cell_type": "markdown",
   "metadata": {},
   "source": [
    "# Basic stats"
   ]
  },
  {
   "cell_type": "code",
   "execution_count": 3,
   "metadata": {},
   "outputs": [
    {
     "data": {
      "text/plain": [
       "frame_id    10880\n",
       "agent_id    10880\n",
       "x           10880\n",
       "y           10880\n",
       "dtype: int64"
      ]
     },
     "execution_count": 3,
     "metadata": {},
     "output_type": "execute_result"
    }
   ],
   "source": [
    "# Number of data points\n",
    "df.count()"
   ]
  },
  {
   "cell_type": "code",
   "execution_count": 4,
   "metadata": {},
   "outputs": [
    {
     "name": "stdout",
     "output_type": "stream",
     "text": [
      "Number of frames: 1171\n"
     ]
    }
   ],
   "source": [
    "# Number of frames\n",
    "frame_ids = df.frame_id.unique()\n",
    "print(\"Number of frames:\", len(frame_ids))"
   ]
  },
  {
   "cell_type": "code",
   "execution_count": 5,
   "metadata": {},
   "outputs": [
    {
     "name": "stdout",
     "output_type": "stream",
     "text": [
      "Number of agents: 544\n"
     ]
    }
   ],
   "source": [
    "# Number of agent trajectories\n",
    "agent_ids = df.agent_id.unique()\n",
    "print(\"Number of agents:\", len(agent_ids))"
   ]
  },
  {
   "cell_type": "code",
   "execution_count": 6,
   "metadata": {},
   "outputs": [
    {
     "data": {
      "text/plain": [
       "array([ 65,  70, 131, 320, 322, 451, 483,  75,  43, 319,  66,  71, 132,\n",
       "       321, 323, 452, 484,  76,  44,  67,  72, 133, 394,  63,  69,  73,\n",
       "        77,  45,  68, 134, 395,  64,  74,  78,  46, 135, 396,  12,  20,\n",
       "       136, 397,  13,  21,  18, 137, 398,  14,   6,  84, 202, 301, 399,\n",
       "        88,  22,  19, 138,  15,   7,  85, 203, 302, 400,  10,  89, 429,\n",
       "       139,  16,   8,  86, 204, 303,   5,  23,  80,  90, 412, 430, 418,\n",
       "       140,  17,   9,  87, 205, 304,  24,  81,  94, 425,  91, 413, 188,\n",
       "       431, 419,  95,  93, 141, 206, 305, 423,  82, 408, 426,  92, 414,\n",
       "       189, 432, 198, 420, 142, 207, 306, 424,  83, 409, 427, 415, 190,\n",
       "       433, 199, 421, 143, 428, 208, 307, 410, 212, 313, 416, 191, 200,\n",
       "       422, 144, 209, 308, 411, 213, 314, 417, 192, 201, 145, 210, 309,\n",
       "       196, 214, 315, 194, 197, 193, 146, 211, 310, 215, 316, 195, 147,\n",
       "       311, 317, 109, 148, 312, 318, 110, 149, 111, 150, 542, 112, 151,\n",
       "       543, 434, 113, 162, 168, 152, 544, 114, 163, 169, 153, 545, 123,\n",
       "       115, 164, 119, 127, 170, 176, 180, 184, 154, 158, 546, 124, 116,\n",
       "       165, 120, 128, 171, 177, 181, 185, 155, 159,  96,  99, 102, 174,\n",
       "       125, 117, 105, 107, 166, 121, 129, 172, 178, 182, 186, 156, 160,\n",
       "        97, 100, 103, 175, 126, 118, 106, 108, 167, 122, 130, 173, 179,\n",
       "       183, 187, 157, 161,  98, 101, 104,  47, 294, 331, 347, 350, 356,\n",
       "        48, 332, 348, 351, 357,  49, 333, 349, 352, 358, 443,  30,  50,\n",
       "       334, 435, 439, 359, 444, 220, 227,  31,  51, 335, 436, 440, 445,\n",
       "       221, 228, 374,  32,  52, 336, 437, 441, 446, 222, 229,  33,  53,\n",
       "       337, 438, 442, 447, 225, 269, 449, 223, 230,  34,  54, 338, 448,\n",
       "       226, 270, 450, 224, 231,  35,  55, 339, 271, 233,  36,  56, 340,\n",
       "       232, 295, 272, 234,  37,  57, 341, 296, 273,  25, 297, 299, 329,\n",
       "        38,  58, 342, 274, 327,  26, 298, 300, 330,  39,  59, 343, 511,\n",
       "       275, 328,  27, 324, 345, 360, 325, 326, 353,  40,  60, 344, 512,\n",
       "       276,  28, 346, 361, 354,  41,  61, 513, 277,  29, 362, 355, 253,\n",
       "       495,  42,  62,  79, 514, 278, 363, 377, 254, 496, 460, 515, 279,\n",
       "       216, 378, 255, 497, 368, 461, 516, 280, 217, 379, 256, 498, 369,\n",
       "       462, 517, 405, 281, 218, 380, 388, 257, 499, 370, 463, 364, 366,\n",
       "       372, 530, 518, 384, 406, 282, 219, 373, 381, 389, 258, 500, 371,\n",
       "       464, 365, 367, 531, 519, 385, 407, 283, 382, 390, 259, 501, 465,\n",
       "       453, 532, 375, 520, 386, 284, 383, 391, 260, 502,   2, 466, 454,\n",
       "       533, 376, 521, 387, 285, 392, 261, 503,   3, 467, 455, 534, 485,\n",
       "       522, 286, 393, 262, 504,   4, 468, 476, 456, 535, 486, 523, 287,\n",
       "       263, 505, 469, 477, 536, 487, 403, 524, 288, 236, 480, 457, 264,\n",
       "       506, 470, 478, 537, 488, 404, 525, 248, 289, 237, 481, 458, 265,\n",
       "       507, 471, 479, 538, 244, 489, 526, 472, 474, 249, 290, 238, 482,\n",
       "       459, 266, 508, 539, 245, 490, 527, 473, 475, 250, 291, 239, 267,\n",
       "       509, 540, 246, 491, 528, 242, 251, 401, 493, 292, 240, 268, 510,\n",
       "       235, 541, 247, 492, 529, 243, 252, 402, 494, 293, 241])"
      ]
     },
     "execution_count": 6,
     "metadata": {},
     "output_type": "execute_result"
    }
   ],
   "source": [
    "agent_ids"
   ]
  },
  {
   "cell_type": "code",
   "execution_count": 7,
   "metadata": {},
   "outputs": [
    {
     "name": "stdout",
     "output_type": "stream",
     "text": [
      "x min: -28.104\n",
      "x max: 27.885\n",
      "y min: -21.263\n",
      "y max: 21.103\n"
     ]
    }
   ],
   "source": [
    "# Min/Max of x, y coordinates\n",
    "x_min = df.x.min()\n",
    "x_max = df.x.max()\n",
    "y_min = df.y.min()\n",
    "y_max = df.y.max()\n",
    "\n",
    "print(\"x min:\", x_min)\n",
    "print(\"x max:\", x_max)\n",
    "print(\"y min:\", y_min)\n",
    "print(\"y max:\", y_max)"
   ]
  },
  {
   "cell_type": "markdown",
   "metadata": {},
   "source": [
    "# Visualizing trajectories"
   ]
  },
  {
   "cell_type": "code",
   "execution_count": 8,
   "metadata": {},
   "outputs": [],
   "source": [
    "%matplotlib inline\n",
    "\n",
    "import numpy as np\n",
    "import matplotlib.pyplot as plt\n",
    "import matplotlib.cm as cm\n",
    "\n",
    "from matplotlib import animation, rc\n",
    "from IPython.display import HTML"
   ]
  },
  {
   "cell_type": "code",
   "execution_count": 9,
   "metadata": {},
   "outputs": [
    {
     "data": {
      "text/html": [
       "<div>\n",
       "<style scoped>\n",
       "    .dataframe tbody tr th:only-of-type {\n",
       "        vertical-align: middle;\n",
       "    }\n",
       "\n",
       "    .dataframe tbody tr th {\n",
       "        vertical-align: top;\n",
       "    }\n",
       "\n",
       "    .dataframe thead th {\n",
       "        text-align: right;\n",
       "    }\n",
       "</style>\n",
       "<table border=\"1\" class=\"dataframe\">\n",
       "  <thead>\n",
       "    <tr style=\"text-align: right;\">\n",
       "      <th></th>\n",
       "      <th>frame_id</th>\n",
       "      <th>agent_id</th>\n",
       "      <th>x</th>\n",
       "      <th>y</th>\n",
       "    </tr>\n",
       "  </thead>\n",
       "  <tbody>\n",
       "    <tr>\n",
       "      <th>0</th>\n",
       "      <td>0</td>\n",
       "      <td>65</td>\n",
       "      <td>27.247</td>\n",
       "      <td>-14.242</td>\n",
       "    </tr>\n",
       "    <tr>\n",
       "      <th>20</th>\n",
       "      <td>0</td>\n",
       "      <td>70</td>\n",
       "      <td>14.042</td>\n",
       "      <td>12.846</td>\n",
       "    </tr>\n",
       "    <tr>\n",
       "      <th>40</th>\n",
       "      <td>0</td>\n",
       "      <td>131</td>\n",
       "      <td>-1.197</td>\n",
       "      <td>-6.882</td>\n",
       "    </tr>\n",
       "    <tr>\n",
       "      <th>60</th>\n",
       "      <td>0</td>\n",
       "      <td>320</td>\n",
       "      <td>-0.658</td>\n",
       "      <td>-10.053</td>\n",
       "    </tr>\n",
       "    <tr>\n",
       "      <th>80</th>\n",
       "      <td>0</td>\n",
       "      <td>322</td>\n",
       "      <td>1.795</td>\n",
       "      <td>-8.816</td>\n",
       "    </tr>\n",
       "    <tr>\n",
       "      <th>100</th>\n",
       "      <td>0</td>\n",
       "      <td>451</td>\n",
       "      <td>-21.163</td>\n",
       "      <td>9.295</td>\n",
       "    </tr>\n",
       "    <tr>\n",
       "      <th>120</th>\n",
       "      <td>0</td>\n",
       "      <td>483</td>\n",
       "      <td>14.401</td>\n",
       "      <td>4.109</td>\n",
       "    </tr>\n",
       "  </tbody>\n",
       "</table>\n",
       "</div>"
      ],
      "text/plain": [
       "     frame_id  agent_id       x       y\n",
       "0           0        65  27.247 -14.242\n",
       "20          0        70  14.042  12.846\n",
       "40          0       131  -1.197  -6.882\n",
       "60          0       320  -0.658 -10.053\n",
       "80          0       322   1.795  -8.816\n",
       "100         0       451 -21.163   9.295\n",
       "120         0       483  14.401   4.109"
      ]
     },
     "execution_count": 9,
     "metadata": {},
     "output_type": "execute_result"
    }
   ],
   "source": [
    "# Selecting all the points in a single frame\n",
    "frame = df.loc[df.frame_id == 0]\n",
    "frame"
   ]
  },
  {
   "cell_type": "code",
   "execution_count": 10,
   "metadata": {},
   "outputs": [
    {
     "data": {
      "image/png": "[encoded data removed]",
      "text/plain": [
       "<Figure size 432x288 with 1 Axes>"
      ]
     },
     "metadata": {
      "needs_background": "light"
     },
     "output_type": "display_data"
    }
   ],
   "source": [
    "# Create color maps to distinguish individual agents\n",
    "colors = cm.flag(np.linspace(0, 1, len(agent_ids)))\n",
    "colormap = dict(zip(agent_ids, colors))\n",
    "\n",
    "# First set up the figure, the axis, and the plot element we want to animate\n",
    "fig, ax = plt.subplots()\n",
    "\n",
    "ax.set_xlim((x_min, x_max))\n",
    "ax.set_ylim((y_min, y_max))\n",
    "\n",
    "trajs = ax.scatter([], [])\n",
    "frame_text = ax.text(0.05, 0.9, '', transform=ax.transAxes)\n",
    "agent_text = ax.text(0.05, 0.8, '', transform=ax.transAxes)"
   ]
  },
  {
   "cell_type": "code",
   "execution_count": 11,
   "metadata": {},
   "outputs": [],
   "source": [
    "# initialization function: plot the background of each frame\n",
    "def init():\n",
    "    trajs.set_offsets([], [])\n",
    "    frame_text.set_text(\"\")\n",
    "    agent_text.set_text(\"\")\n",
    "    return (trajs, frame_text)"
   ]
  },
  {
   "cell_type": "code",
   "execution_count": 12,
   "metadata": {},
   "outputs": [],
   "source": [
    "def animate(i):\n",
    "    frame = df.loc[df.frame_id == frame_ids[i]]\n",
    "    coords = []\n",
    "    colors = []\n",
    "    for j, row in frame.iterrows():\n",
    "        agent_id = row.agent_id\n",
    "        x = row.x\n",
    "        y = row.y\n",
    "        c = colormap[agent_id]\n",
    "        coords.append((x, y))\n",
    "        colors.append(c)\n",
    "    \n",
    "    trajs.set_offsets(coords)\n",
    "    trajs.set_facecolors(colors)\n",
    "    frame_text.set_text(\"Frame: %d\" %(frame_ids[i]))\n",
    "    \n",
    "    agents = [str(agent_id) for agent_id in frame.agent_id]\n",
    "    agent_text.set_text(\"Agents: \" + ', '.join(sorted(agents)))\n",
    "    \n",
    "    return (trajs, frame_text, agent_text)"
   ]
  },
  {
   "cell_type": "code",
   "execution_count": 13,
   "metadata": {},
   "outputs": [],
   "source": [
    "# call the animator. blit=True means only re-draw the parts that have changed.\n",
    "anim = animation.FuncAnimation(fig, animate, frames=len(frame_ids))"
   ]
  },
  {
   "cell_type": "code",
   "execution_count": null,
   "metadata": {},
   "outputs": [],
   "source": [
    "HTML(anim.to_html5_video())"
   ]
  }
 ],
 "metadata": {
  "kernelspec": {
   "display_name": "Python 3",
   "language": "python",
   "name": "python3"
  },
  "language_info": {
   "codemirror_mode": {
    "name": "ipython",
    "version": 3
   },
   "file_extension": ".py",
   "mimetype": "text/x-python",
   "name": "python",
   "nbconvert_exporter": "python",
   "pygments_lexer": "ipython3",
   "version": "3.5.2"
  }
 },
 "nbformat": 4,
 "nbformat_minor": 2
}
